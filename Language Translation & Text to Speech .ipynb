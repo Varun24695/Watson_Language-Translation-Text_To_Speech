{
 "cells": [
  {
   "cell_type": "code",
   "execution_count": 1,
   "id": "bc1dc2ff",
   "metadata": {},
   "outputs": [
    {
     "name": "stdout",
     "output_type": "stream",
     "text": [
      "Requirement already satisfied: ibm_watson in c:\\users\\varun\\anaconda3\\lib\\site-packages (5.1.0)\n",
      "Requirement already satisfied: ibm-cloud-sdk-core>=3.3.6 in c:\\users\\varun\\anaconda3\\lib\\site-packages (from ibm_watson) (3.10.0)\n",
      "Requirement already satisfied: requests<3.0,>=2.0 in c:\\users\\varun\\anaconda3\\lib\\site-packages (from ibm_watson) (2.25.1)\n",
      "Requirement already satisfied: websocket-client==0.48.0 in c:\\users\\varun\\anaconda3\\lib\\site-packages (from ibm_watson) (0.48.0)\n",
      "Requirement already satisfied: python-dateutil>=2.5.3 in c:\\users\\varun\\anaconda3\\lib\\site-packages (from ibm_watson) (2.8.1)\n",
      "Requirement already satisfied: six in c:\\users\\varun\\anaconda3\\lib\\site-packages (from websocket-client==0.48.0->ibm_watson) (1.15.0)\n",
      "Requirement already satisfied: PyJWT<3.0.0,>=2.0.1 in c:\\users\\varun\\anaconda3\\lib\\site-packages (from ibm-cloud-sdk-core>=3.3.6->ibm_watson) (2.1.0)\n",
      "Requirement already satisfied: idna<3,>=2.5 in c:\\users\\varun\\anaconda3\\lib\\site-packages (from requests<3.0,>=2.0->ibm_watson) (2.10)\n",
      "Requirement already satisfied: urllib3<1.27,>=1.21.1 in c:\\users\\varun\\anaconda3\\lib\\site-packages (from requests<3.0,>=2.0->ibm_watson) (1.26.4)\n",
      "Requirement already satisfied: chardet<5,>=3.0.2 in c:\\users\\varun\\anaconda3\\lib\\site-packages (from requests<3.0,>=2.0->ibm_watson) (3.0.4)\n",
      "Requirement already satisfied: certifi>=2017.4.17 in c:\\users\\varun\\anaconda3\\lib\\site-packages (from requests<3.0,>=2.0->ibm_watson) (2020.12.5)\n"
     ]
    }
   ],
   "source": [
    "!pip install ibm_watson"
   ]
  },
  {
   "cell_type": "code",
   "execution_count": 2,
   "id": "2e56e305",
   "metadata": {},
   "outputs": [],
   "source": [
    "# Authentication\n",
    "# IBM Language Translator\n",
    "apikey = 'cVFxl-miP7DSmvDXnnMSFi6OR5GI2cVkzv1QcecrtiZo'\n",
    "url = 'https://api.eu-gb.language-translator.watson.cloud.ibm.com/instances/c645b82e-f77d-46ad-89df-60ad83472235'"
   ]
  },
  {
   "cell_type": "code",
   "execution_count": 3,
   "id": "b4ec9fe9",
   "metadata": {},
   "outputs": [
    {
     "name": "stderr",
     "output_type": "stream",
     "text": [
      "C:\\Users\\varun\\anaconda3\\lib\\site-packages\\numpy\\_distributor_init.py:30: UserWarning: loaded more than 1 DLL from .libs:\n",
      "C:\\Users\\varun\\anaconda3\\lib\\site-packages\\numpy\\.libs\\libopenblas.PYQHXLVVQ7VESDPUVUADXEVJOBGHJPAY.gfortran-win_amd64.dll\n",
      "C:\\Users\\varun\\anaconda3\\lib\\site-packages\\numpy\\.libs\\libopenblas.WCDJNK7YVMPZQ2ME2ZZHJJRJ3JIKNDB7.gfortran-win_amd64.dll\n",
      "  warnings.warn(\"loaded more than 1 DLL from .libs:\"\n"
     ]
    }
   ],
   "source": [
    "# import dependencies\n",
    "from ibm_watson import LanguageTranslatorV3\n",
    "from ibm_cloud_sdk_core.authenticators import IAMAuthenticator"
   ]
  },
  {
   "cell_type": "code",
   "execution_count": 6,
   "id": "98a0b4f6",
   "metadata": {},
   "outputs": [],
   "source": [
    "# setup service\n",
    "authenticator = IAMAuthenticator(apikey)\n",
    "lt = LanguageTranslatorV3(version='2018-05-01', authenticator=authenticator)\n",
    "lt.set_service_url(url)"
   ]
  },
  {
   "cell_type": "code",
   "execution_count": 17,
   "id": "5c3b4b72",
   "metadata": {},
   "outputs": [],
   "source": [
    "# translate\n",
    "\n",
    "translation = lt.translate(text='Hai, how are you doing today?', model_id='en-de').get_result()"
   ]
  },
  {
   "cell_type": "code",
   "execution_count": 18,
   "id": "25a59266",
   "metadata": {},
   "outputs": [
    {
     "data": {
      "text/plain": [
       "{'translations': [{'translation': 'Hai, wie geht es dir heute?'}],\n",
       " 'word_count': 8,\n",
       " 'character_count': 29}"
      ]
     },
     "execution_count": 18,
     "metadata": {},
     "output_type": "execute_result"
    }
   ],
   "source": [
    "translation"
   ]
  },
  {
   "cell_type": "code",
   "execution_count": 19,
   "id": "d5fd4f0e",
   "metadata": {},
   "outputs": [
    {
     "data": {
      "text/plain": [
       "'Hai, wie geht es dir heute?'"
      ]
     },
     "execution_count": 19,
     "metadata": {},
     "output_type": "execute_result"
    }
   ],
   "source": [
    "translation['translations'][0]['translation']"
   ]
  },
  {
   "cell_type": "code",
   "execution_count": 20,
   "id": "7ddeb3ce",
   "metadata": {},
   "outputs": [],
   "source": [
    "# Identify Languages\n",
    "\n",
    "language = lt.identify('Thankyou for viewing my code.').get_result()"
   ]
  },
  {
   "cell_type": "code",
   "execution_count": 16,
   "id": "d878fe57",
   "metadata": {},
   "outputs": [
    {
     "data": {
      "text/plain": [
       "{'languages': [{'language': 'en', 'confidence': 0.9984892309855892},\n",
       "  {'language': 'af', 'confidence': 0.000741186783822692},\n",
       "  {'language': 'nn', 'confidence': 0.0002802311607266564},\n",
       "  {'language': 'da', 'confidence': 0.00021913068731247424},\n",
       "  {'language': 'nb', 'confidence': 0.00016501196027818754},\n",
       "  {'language': 'nl', 'confidence': 3.164178214004013e-05},\n",
       "  {'language': 'tl', 'confidence': 1.7197147089141785e-05},\n",
       "  {'language': 'vi', 'confidence': 1.6296250438236827e-05},\n",
       "  {'language': 'sk', 'confidence': 8.890749078024198e-06},\n",
       "  {'language': 'ht', 'confidence': 8.147643991447429e-06},\n",
       "  {'language': 'de', 'confidence': 6.707763053877925e-06},\n",
       "  {'language': 'pt', 'confidence': 4.8998013781886755e-06},\n",
       "  {'language': 'pl', 'confidence': 1.9472945359045835e-06},\n",
       "  {'language': 'sv', 'confidence': 1.7402855730102078e-06},\n",
       "  {'language': 'ms', 'confidence': 1.3409424748406212e-06},\n",
       "  {'language': 'cs', 'confidence': 1.223087077684387e-06},\n",
       "  {'language': 'cy', 'confidence': 9.850078158733955e-07},\n",
       "  {'language': 'ku', 'confidence': 8.271626411299247e-07},\n",
       "  {'language': 'es', 'confidence': 6.724724077559998e-07},\n",
       "  {'language': 'lt', 'confidence': 5.211784268274864e-07},\n",
       "  {'language': 'fr', 'confidence': 4.016387772046416e-07},\n",
       "  {'language': 'tr', 'confidence': 3.039088226529411e-07},\n",
       "  {'language': 'fi', 'confidence': 2.2631141453732913e-07},\n",
       "  {'language': 'is', 'confidence': 2.0806440235479415e-07},\n",
       "  {'language': 'sq', 'confidence': 1.783118533812755e-07},\n",
       "  {'language': 'mt', 'confidence': 1.5967296820127887e-07},\n",
       "  {'language': 'lv', 'confidence': 1.3419016351363392e-07},\n",
       "  {'language': 'hu', 'confidence': 1.3374230987858502e-07},\n",
       "  {'language': 'ro', 'confidence': 1.0938987044095083e-07},\n",
       "  {'language': 'so', 'confidence': 1.0471154203909671e-07},\n",
       "  {'language': 'hr', 'confidence': 3.5792503900926416e-08},\n",
       "  {'language': 'et', 'confidence': 3.370000036713732e-08},\n",
       "  {'language': 'eo', 'confidence': 2.5673671194254016e-08},\n",
       "  {'language': 'ca', 'confidence': 1.9964474194134073e-08},\n",
       "  {'language': 'az', 'confidence': 1.5968342879782458e-08},\n",
       "  {'language': 'sl', 'confidence': 1.497203519713288e-08},\n",
       "  {'language': 'zh', 'confidence': 1.1387722170485223e-08},\n",
       "  {'language': 'zh-TW', 'confidence': 1.1110454733458333e-08},\n",
       "  {'language': 'it', 'confidence': 7.9120703081906e-09},\n",
       "  {'language': 'ja', 'confidence': 7.1068537711660556e-09},\n",
       "  {'language': 'ga', 'confidence': 6.210564948531456e-09},\n",
       "  {'language': 'ko', 'confidence': 6.176171527695973e-09},\n",
       "  {'language': 'eu', 'confidence': 5.764115479106863e-09},\n",
       "  {'language': 'th', 'confidence': 2.698126705976123e-09},\n",
       "  {'language': 'el', 'confidence': 1.4064147323061319e-09},\n",
       "  {'language': 'ru', 'confidence': 5.431651354470547e-10},\n",
       "  {'language': 'hi', 'confidence': 4.3486991949969606e-10},\n",
       "  {'language': 'sr', 'confidence': 3.835966947226562e-10},\n",
       "  {'language': 'mn', 'confidence': 3.3276486022372e-10},\n",
       "  {'language': 'mr', 'confidence': 2.9327141623669453e-10},\n",
       "  {'language': 'ar', 'confidence': 2.661232887102925e-10},\n",
       "  {'language': 'lo', 'confidence': 1.8062425545461883e-10},\n",
       "  {'language': 'he', 'confidence': 1.438116096602509e-10},\n",
       "  {'language': 'ka', 'confidence': 1.4298606050616535e-10},\n",
       "  {'language': 'my', 'confidence': 1.3222620563892745e-10},\n",
       "  {'language': 'ur', 'confidence': 1.157351511743312e-10},\n",
       "  {'language': 'km', 'confidence': 9.720538469667134e-11},\n",
       "  {'language': 'bg', 'confidence': 9.520308878620633e-11},\n",
       "  {'language': 'uk', 'confidence': 8.656765455887944e-11},\n",
       "  {'language': 'be', 'confidence': 8.411911704057997e-11},\n",
       "  {'language': 'ky', 'confidence': 7.909483654487561e-11},\n",
       "  {'language': 'kk', 'confidence': 7.716715031280467e-11},\n",
       "  {'language': 'cv', 'confidence': 5.328511023056802e-11},\n",
       "  {'language': 'hy', 'confidence': 5.2570904501526576e-11},\n",
       "  {'language': 'bn', 'confidence': 4.8823203621260196e-11},\n",
       "  {'language': 'ps', 'confidence': 4.861409646092782e-11},\n",
       "  {'language': 'ml', 'confidence': 4.771648994555513e-11},\n",
       "  {'language': 'ne', 'confidence': 4.556554710766221e-11},\n",
       "  {'language': 'ta', 'confidence': 4.494150499064849e-11},\n",
       "  {'language': 'te', 'confidence': 4.439474113161449e-11},\n",
       "  {'language': 'pa', 'confidence': 4.3396608763232637e-11},\n",
       "  {'language': 'fa', 'confidence': 4.1035815303524286e-11},\n",
       "  {'language': 'ba', 'confidence': 3.6700354496406644e-11},\n",
       "  {'language': 'si', 'confidence': 3.3136177390327523e-11},\n",
       "  {'language': 'gu', 'confidence': 2.971629112276492e-11},\n",
       "  {'language': 'pa-PK', 'confidence': 1.0074006984176415e-11}]}"
      ]
     },
     "execution_count": 16,
     "metadata": {},
     "output_type": "execute_result"
    }
   ],
   "source": [
    "language"
   ]
  },
  {
   "cell_type": "code",
   "execution_count": 22,
   "id": "73c6491b",
   "metadata": {},
   "outputs": [],
   "source": [
    "# AI Travel Guide\n",
    "# using IBM Watson text to speech\n",
    "ttsapikey = 'oXPmC6zP8AFOXzG76QrUXbop32eJnFapwGfoRntCz50U'\n",
    "ttsurl = 'https://api.eu-gb.text-to-speech.watson.cloud.ibm.com/instances/c465ad78-cffa-4079-87e4-09bd7813715b'"
   ]
  },
  {
   "cell_type": "code",
   "execution_count": 23,
   "id": "b8124ba0",
   "metadata": {},
   "outputs": [],
   "source": [
    "from ibm_watson import TextToSpeechV1"
   ]
  },
  {
   "cell_type": "code",
   "execution_count": 24,
   "id": "edd4fe35",
   "metadata": {},
   "outputs": [],
   "source": [
    "# Authentication\n",
    "ttsauthenticator = IAMAuthenticator(ttsapikey)\n",
    "tts = TextToSpeechV1(authenticator=ttsauthenticator)\n",
    "tts.set_service_url(ttsurl)"
   ]
  },
  {
   "cell_type": "code",
   "execution_count": 27,
   "id": "50d529a9",
   "metadata": {},
   "outputs": [],
   "source": [
    "translation = lt.translate(text='we are out of fuel, Is there any gas station nearby!', model_id = 'en-de').get_result()"
   ]
  },
  {
   "cell_type": "code",
   "execution_count": 28,
   "id": "3a747601",
   "metadata": {},
   "outputs": [
    {
     "data": {
      "text/plain": [
       "'Wir sind aus Treibstoff, gibt es eine Tankstelle in der Nähe!'"
      ]
     },
     "execution_count": 28,
     "metadata": {},
     "output_type": "execute_result"
    }
   ],
   "source": [
    "text = translation['translations'][0]['translation']\n",
    "text"
   ]
  },
  {
   "cell_type": "code",
   "execution_count": 30,
   "id": "bf58b051",
   "metadata": {},
   "outputs": [],
   "source": [
    "with open('./help.mp3', 'wb') as audio_file:\n",
    "    res = tts.synthesize(text, accept='audio/mp3', voice='de-DE_BirgitVoice').get_result()\n",
    "    audio_file.write(res.content)"
   ]
  },
  {
   "cell_type": "code",
   "execution_count": null,
   "id": "42cea197",
   "metadata": {},
   "outputs": [],
   "source": []
  }
 ],
 "metadata": {
  "kernelspec": {
   "display_name": "Python 3",
   "language": "python",
   "name": "python3"
  },
  "language_info": {
   "codemirror_mode": {
    "name": "ipython",
    "version": 3
   },
   "file_extension": ".py",
   "mimetype": "text/x-python",
   "name": "python",
   "nbconvert_exporter": "python",
   "pygments_lexer": "ipython3",
   "version": "3.8.5"
  }
 },
 "nbformat": 4,
 "nbformat_minor": 5
}
